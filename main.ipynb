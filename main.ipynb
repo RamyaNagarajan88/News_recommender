{
 "metadata": {
  "language_info": {
   "codemirror_mode": {
    "name": "ipython",
    "version": 3
   },
   "file_extension": ".py",
   "mimetype": "text/x-python",
   "name": "python",
   "nbconvert_exporter": "python",
   "pygments_lexer": "ipython3",
   "version": "3.9.4"
  },
  "orig_nbformat": 2,
  "kernelspec": {
   "name": "python394jvsc74a57bd0dc35b9876508b1d2e1d46d593856ae8aa478e8b34d2a595b43b666b93debebc3",
   "display_name": "Python 3.9.4 64-bit"
  },
  "metadata": {
   "interpreter": {
    "hash": "dc35b9876508b1d2e1d46d593856ae8aa478e8b34d2a595b43b666b93debebc3"
   }
  }
 },
 "nbformat": 4,
 "nbformat_minor": 2,
 "cells": [
  {
   "cell_type": "code",
   "execution_count": null,
   "metadata": {},
   "outputs": [],
   "source": [
    "#data and code ideas source:\n",
    "#https://www.kaggle.com/getting-started/186418"
   ]
  },
  {
   "cell_type": "code",
   "execution_count": 1061,
   "metadata": {},
   "outputs": [
    {
     "output_type": "stream",
     "name": "stdout",
     "text": [
      "<class 'pandas.core.frame.DataFrame'>\nRangeIndex: 2190 entries, 0 to 2189\nData columns (total 9 columns):\n #   Column         Non-Null Count  Dtype \n---  ------         --------------  ----- \n 0   Unnamed: 0     2190 non-null   int64 \n 1   Unnamed: 0.1   2190 non-null   int64 \n 2   link           2190 non-null   object\n 3   text           2184 non-null   object\n 4   title          2187 non-null   object\n 5   date           1691 non-null   object\n 6   keywords       2187 non-null   object\n 7   summary        2184 non-null   object\n 8   title_summary  2184 non-null   object\ndtypes: int64(2), object(7)\nmemory usage: 154.1+ KB\n"
     ]
    }
   ],
   "source": [
    "import pandas as pd\n",
    "import numpy as np\n",
    "df=pd.read_csv('result_final.csv')\n",
    "df.info()"
   ]
  },
  {
   "cell_type": "code",
   "execution_count": 1062,
   "metadata": {},
   "outputs": [],
   "source": [
    "df.drop_duplicates(['title'],inplace=True)"
   ]
  },
  {
   "cell_type": "code",
   "execution_count": 1063,
   "metadata": {},
   "outputs": [
    {
     "output_type": "execute_result",
     "data": {
      "text/plain": [
       "Unnamed: 0         0\n",
       "Unnamed: 0.1       0\n",
       "link               0\n",
       "text               4\n",
       "title              1\n",
       "date             396\n",
       "keywords           1\n",
       "summary            4\n",
       "title_summary      4\n",
       "dtype: int64"
      ]
     },
     "metadata": {},
     "execution_count": 1063
    }
   ],
   "source": [
    "df.isnull().sum()"
   ]
  },
  {
   "cell_type": "code",
   "execution_count": 1064,
   "metadata": {},
   "outputs": [],
   "source": [
    "df.rename(columns = {'Unnamed: 0':'news_id'}, inplace = True)\n",
    "df['date']=pd.to_datetime(df['date'])"
   ]
  },
  {
   "cell_type": "code",
   "execution_count": 1065,
   "metadata": {},
   "outputs": [],
   "source": [
    "news_df=df[['link','text','title','date']].copy()"
   ]
  },
  {
   "cell_type": "code",
   "execution_count": 1066,
   "metadata": {},
   "outputs": [],
   "source": [
    "news_df=news_df.reset_index()"
   ]
  },
  {
   "cell_type": "code",
   "execution_count": 1067,
   "metadata": {},
   "outputs": [
    {
     "output_type": "stream",
     "name": "stdout",
     "text": [
      "<class 'pandas.core.frame.DataFrame'>\nRangeIndex: 1724 entries, 0 to 1723\nData columns (total 5 columns):\n #   Column  Non-Null Count  Dtype \n---  ------  --------------  ----- \n 0   index   1724 non-null   int64 \n 1   link    1724 non-null   object\n 2   text    1720 non-null   object\n 3   title   1723 non-null   object\n 4   date    1328 non-null   object\ndtypes: int64(1), object(4)\nmemory usage: 67.5+ KB\n"
     ]
    }
   ],
   "source": [
    "news_df.info()"
   ]
  },
  {
   "cell_type": "code",
   "execution_count": 1068,
   "metadata": {},
   "outputs": [
    {
     "output_type": "execute_result",
     "data": {
      "text/plain": [
       "index      0\n",
       "link       0\n",
       "text       4\n",
       "title      1\n",
       "date     396\n",
       "dtype: int64"
      ]
     },
     "metadata": {},
     "execution_count": 1068
    }
   ],
   "source": [
    "news_df.isna().sum()"
   ]
  },
  {
   "cell_type": "code",
   "execution_count": 1069,
   "metadata": {},
   "outputs": [],
   "source": [
    "no_text_title_indices=news_df[(news_df['text'].isnull())&(news_df['title'].isnull())].index\n",
    "\n",
    "news_df.drop(no_text_title_indices,axis=0,inplace=True)\n",
    "\n",
    "title_only_indices=news_df[(news_df['text'].isnull())&(news_df['title'].notnull())].index"
   ]
  },
  {
   "cell_type": "code",
   "execution_count": 1070,
   "metadata": {},
   "outputs": [],
   "source": [
    "for i in title_only_indices:\n",
    "    news_df.loc[i,'text']=news_df.loc[i,'title']"
   ]
  },
  {
   "cell_type": "code",
   "execution_count": 1071,
   "metadata": {},
   "outputs": [],
   "source": [
    "def convertlower(s):\n",
    "    return s.lower()"
   ]
  },
  {
   "cell_type": "code",
   "execution_count": 1072,
   "metadata": {},
   "outputs": [],
   "source": [
    "news_df['text']=news_df['text'].apply(convertlower)"
   ]
  },
  {
   "cell_type": "code",
   "execution_count": 1073,
   "metadata": {},
   "outputs": [],
   "source": [
    "def removeWhiteSpaces(s):\n",
    "    return s.strip()"
   ]
  },
  {
   "cell_type": "code",
   "execution_count": 1074,
   "metadata": {},
   "outputs": [],
   "source": [
    "news_df['text']=news_df['text'].apply(removeWhiteSpaces)"
   ]
  },
  {
   "cell_type": "code",
   "execution_count": 1075,
   "metadata": {},
   "outputs": [],
   "source": [
    "import string\n",
    "def removePunctuations(s):\n",
    "    return s.translate(str.maketrans('','',string.punctuation))"
   ]
  },
  {
   "cell_type": "code",
   "execution_count": 1076,
   "metadata": {},
   "outputs": [],
   "source": [
    "news_df['text']=news_df['text'].apply(removePunctuations)"
   ]
  },
  {
   "cell_type": "code",
   "execution_count": 1077,
   "metadata": {},
   "outputs": [],
   "source": [
    "import re\n",
    "def removeNumbers(s):\n",
    "    return re.sub(r'\\d+','',s)\n",
    "def removeURL(s):\n",
    "    return re.sub(r'^https?:\\/\\/.*[\\r\\n]*','',s)\n",
    "def removeTags(s):\n",
    "    remove_tags=re.compile('<.*?>')\n",
    "    return re.sub(remove_tags,'',s)"
   ]
  },
  {
   "cell_type": "code",
   "execution_count": 1078,
   "metadata": {},
   "outputs": [],
   "source": [
    "news_df['text']=news_df['text'].apply(removeNumbers)\n",
    "news_df['text']=news_df['text'].apply(removeURL)\n",
    "news_df['text']=news_df['text'].apply(removeTags)"
   ]
  },
  {
   "cell_type": "code",
   "execution_count": 1079,
   "metadata": {},
   "outputs": [],
   "source": [
    "from sklearn.feature_extraction.text import TfidfVectorizer\n",
    "from sklearn.feature_extraction._stop_words import ENGLISH_STOP_WORDS\n",
    "tfidf=TfidfVectorizer(stop_words=ENGLISH_STOP_WORDS,max_df=0.8,min_df=0.25)"
   ]
  },
  {
   "cell_type": "code",
   "execution_count": 1080,
   "metadata": {},
   "outputs": [],
   "source": [
    "tfidf_matrix=tfidf.fit_transform(news_df['text'])"
   ]
  },
  {
   "cell_type": "code",
   "execution_count": 1081,
   "metadata": {},
   "outputs": [
    {
     "output_type": "execute_result",
     "data": {
      "text/plain": [
       "(1723, 24)"
      ]
     },
     "metadata": {},
     "execution_count": 1081
    }
   ],
   "source": [
    "tfidf_matrix.shape"
   ]
  },
  {
   "cell_type": "code",
   "execution_count": 1082,
   "metadata": {},
   "outputs": [],
   "source": [
    "from sklearn.metrics.pairwise import linear_kernel\n",
    "cosine_sim=linear_kernel(tfidf_matrix,tfidf_matrix)"
   ]
  },
  {
   "cell_type": "code",
   "execution_count": 1083,
   "metadata": {},
   "outputs": [
    {
     "output_type": "execute_result",
     "data": {
      "text/plain": [
       "array([[1.        , 0.73882936, 0.41983446, ..., 0.39548028, 0.38090074,\n",
       "        0.31937249],\n",
       "       [0.73882936, 1.        , 0.30754811, ..., 0.4576303 , 0.52170967,\n",
       "        0.43573242],\n",
       "       [0.41983446, 0.30754811, 1.        , ..., 0.36806687, 0.0538922 ,\n",
       "        0.20813156],\n",
       "       ...,\n",
       "       [0.39548028, 0.4576303 , 0.36806687, ..., 1.        , 0.60160032,\n",
       "        0.75912578],\n",
       "       [0.38090074, 0.52170967, 0.0538922 , ..., 0.60160032, 1.        ,\n",
       "        0.53500493],\n",
       "       [0.31937249, 0.43573242, 0.20813156, ..., 0.75912578, 0.53500493,\n",
       "        1.        ]])"
      ]
     },
     "metadata": {},
     "execution_count": 1083
    }
   ],
   "source": [
    "cosine_sim"
   ]
  },
  {
   "cell_type": "code",
   "execution_count": 1084,
   "metadata": {},
   "outputs": [],
   "source": [
    "def getRecommendations(newsindex):\n",
    "    return newsdf.loc[newsindex]"
   ]
  },
  {
   "cell_type": "code",
   "execution_count": 1085,
   "metadata": {},
   "outputs": [],
   "source": [
    "def getnewsId(newsTitle):\n",
    "    return news_df.loc[news_df['title']==newsTitle,'index'].values[0]"
   ]
  },
  {
   "cell_type": "code",
   "execution_count": 1086,
   "metadata": {},
   "outputs": [],
   "source": [
    "recommendations_count=10\n",
    "def getRecommendations(read_id):\n",
    "    return np.argsort(cosine_sim[read_id][:])[::-1][1:recommendations_count+1]\n"
   ]
  },
  {
   "cell_type": "code",
   "execution_count": 1087,
   "metadata": {},
   "outputs": [],
   "source": [
    "def newsPrettyPrint(result_df):\n",
    "    for i in range(recommendations_count):\n",
    "        print('Recommendation '+str((i+1))+'\\n')\n",
    "        print('Date :',result_df.loc[i,'date'])\n",
    "        print('Title :',result_df.loc[i,'title'])\n",
    "        print('Link :',result_df.loc[i,'link'])\n",
    "        print('Similarity score:',result_df.loc[i,'score'])\n",
    "        print('Details :',result_df.loc[i,'text'])\n",
    "        print('\\n')"
   ]
  },
  {
   "cell_type": "code",
   "execution_count": 1088,
   "metadata": {},
   "outputs": [],
   "source": [
    "def getTopRecommendationsByContent(result_df):\n",
    "    newsPrettyPrint(result_df)"
   ]
  },
  {
   "cell_type": "code",
   "execution_count": 1089,
   "metadata": {},
   "outputs": [],
   "source": [
    "def getTopRecommendationsLatestFirst(result_df):\n",
    "    result_df['date'] = pd.to_datetime(result_df['date'], errors='coerce',utc=True)\n",
    "    result_df.sort_values(by='date',ascending=False,inplace=True)\n",
    "    newsPrettyPrint(result_df)"
   ]
  },
  {
   "cell_type": "code",
   "execution_count": 1090,
   "metadata": {},
   "outputs": [],
   "source": [
    "read_article='Groww, an investment app for millennials in India, raises $30M led by YC Continuity – TechCrunch'\n",
    "read_id=getnewsId(read_article)"
   ]
  },
  {
   "cell_type": "code",
   "execution_count": 1091,
   "metadata": {
    "tags": []
   },
   "outputs": [
    {
     "output_type": "stream",
     "name": "stdout",
     "text": [
      "user read title: \n\nGroww, an investment app for millennials in India, raises $30M led by YC Continuity – TechCrunch\n\n\nRecommendation by content similarity\n\nRecommendation 1\n\nDate : 2020-09-15 00:00:00\nTitle : Virtual events platform Airmeet raises $12M – TechCrunch\nLink : http://techcrunch.com/2020/09/15/virtual-events-platform-airmeet-raises-12m/\nSimilarity score: 0.8678524415065821\nDetails : airmeet a startup that offers a platform to host virtual events said on tuesday it has raised  million in a new financing round as the bangaloreheadquartered firm demonstrates accelerating growth in its user base\n\nsequoia capital india led the  million series a financing round in oneyearold airmeet redpoint ventures and existing investors accel india venture highway global founders capital gfc and gokul rajaram caviar lead at doordash also participated in the round\n\nthe new round values airmeet at about  million more than double of what it was valued in march when it raised  million according to a person familiar with the matter\n\nairmeet allows users and businesses to host interactive virtual events its platform intuitively replicates aspects of a physical event offering a backstage grouping people to a table allowing participants to network with each other and even enabling event organizers to work with sponsors airmeet currently in public beta is available through a freemium model where it charges businesses based on their usage\n\nin an interview with techcrunch lalit mangal cofounder of airmeet said the usage on the platform has grown  over the last quarter without any investment in advertisement he said\n\nin recent months airmeet has worked to expand the use cases of the platform in addition to hosting large conferences airmeet is now also being used for professional meetups at large film festivals he said recently it held university resource fairs and technical industry summits\n\n“covid has accelerated a permanent behavioral shift across many industries with digitization of largely traditional spaces leapfrogging by years the  billion global offline events space is up for grabs there is massive potential for players who drive the industry’s transition towards onlineevents” said abhishek mohan vp at sequoia capital india in a statement\n\nairmeet is built on top of webrtc a standard that most modern browsers follow this has enabled airmeet to be fully accessible through chrome and firefox all the sessions are also endtoend encrypted said mangal it does not have a mobile app mangal said people tend to use their laptop or desktop or their ipads for professional events users can consume a session through their mobile browser however\n\nthe startup which is in the same space as hopin and andreessen horowitzbacked run the world will use the fresh capital to add new features to airmeet and also scale globally said mangal\n\n“airmeet’s mission is to create a global platform to enable millions of community managers and event organizers across the world to engage with and expand their audience and with lalit and team’s focus execution and innovative thinking they are strongly placed to achieve their goal” said mohan\n\n\nRecommendation 2\n\nDate : 2020-09-07 00:00:00\nTitle : HumanForest gets $2.3M from Cabify founders and others to grow a ‘free’ e-bike sharing service – TechCrunch\nLink : http://techcrunch.com/2020/09/07/humanforest-gets-2-3m-from-cabify-founders-and-others-to-grow-a-free-e-bike-sharing-service/\nSimilarity score: 0.8410198873094101\nDetails : humanforest a dockless shared and adsupported ebike service which began trialling a service in london this june has taken in its first tranche of external funding the £ million m investment comes from backers in the mobility space including juan de antonio and vicente pascual founders of ridesharing app cabify\n\nas part of the investment cabify’s pascual has joined the humanforest board along with stefan tilks exvolvo president and ceo of nevs ab a swedish electric car manufacturer humanforest’s cofounder and ceo agustin guilisasti is a former cabify country manager\n\nhumanforest’s ebike sharing service is limited to london for now and journeys must also be terminated within just two boroughs in north london islington and camden though it’s aiming to expand parking to other boroughs within the capital as it scales\n\nit says the new funding will be used to grow its bike fleet to  at the end of this month — and is aiming to have  ebikes in london within a year\n\nebike sharing has exploded in recent years with ridehailing giants like uber jumping into the category as mobility players seek to diversify and while uber soon offloaded its jump bike assets in europe to micromobility player lime after making a major investment in the escooter rival service gaps in key commuter cities are quick to attract new rivals — such as bolt now pushing an ebike offering in paris\n\ndespite all this activity humanforest reckons there’s still room to innovate on the ebike sharing model\n\nits flagship pledge is it’s london’s only “free” shared ebike service — as it offers users  free minutes of ride time per day the free ride minutes are supported by ads shown via the humanforest app pricing thereafter is £ per minute though humanforest says users may be able to gain further free ride minutes via promotions and competitions\n\npartner companies for humanforest’s digital marketing platform which includes the likes of whole foods and rude health at this starter stage are thus subsidising free trips in exchange for pushing their marketing message within a social impact product\n\nanother strand to its model is a subscription ebike service for corporates — with humanforest spying an opportunity to offer londoners an alternative and green means of commuting to work in the postcovid era that avoids the need to pack onto public transport\n\nhumanforest’s ebikes are powered by a rechargeable battery pack that’s good for km on a single charge it takes care of charging and swapping the packs — and touts that both batteries and its service vehicles are changed with certified renewable energy sources\n\ncommenting on the funding in a statement pascual said “i worked with the team at humanforest for ten years at cabify and i believe that this is another disruptor it is three disruptors in one it provides free mobility for users through its partnership model protects the planet and appeals to partner companies who seek to demonstrate their social impact we are already seeing the success of the model and i am excited to be involved in its future growth”\n\nwhile shared mobility services have also been hit by concerns related to risk of exposure to the novel coronavirus bikes are at least used outdoors where there are no worries about lack of ventilation\n\non sanitation an faq on humanforest’s website notes that disinfectant spray is provided with each ebike it recommends users wipe down the handlebars and brake handles before and after riding as well as suggesting the wearing of gloves\n\n\nRecommendation 3\n\nDate : 2020-09-02 00:00:00\nTitle : When Hunger Is on the Doorstep\nLink : https://www.nytimes.com/2020/09/02/insider/food-insecurity-families.html\nSimilarity score: 0.8384155898878194\nDetails : you finished this trip several weeks ago but is there any image that has stuck with you\n\nit is a visit to one family it’s a girl she’s eating soup that was made by her dad and she’s  years old she has adhd she is raised by a dad whose husband died the dad was in the military a gay man during the time of don’t ask don’t tell he adopted this girl from a family member now he’s in his s and she is approaching young womanhood they are eating pasta shells that he sautéed up in a pan with a can of tomato soup and a can of diced tomatoes and that was what he calls “cheap soup” there was nothing in that photo that belies anything that i told you as a back story including the urn that he had next to his bookcase with the rainbow flag over it that contains his husband\n\ni left there feeling that i wanted her voice to be heard i believe i felt that way because i didn’t see the pathway for that to happen sometimes being welladjusted is not what you want you don’t want to be comfortable with scarcity so the feeling that i had with that family was bittersweet i love the fact that they had each other and they weren’t complaining about it and they formed a family yet i hoped that her voice could be heard so that she is the new face of our future\n\nhow did your upbringing inform how you approached this project\n\ni would say that has fully formed the human being that i am and so i’m able to approach a lot of situations in life with experience that allows me to just receive whoever is gracious enough to invite me into their life that is much more important than any kind of knowledge of photography being human being rich in lived experience enables you to sit down at a table literally and figuratively and be present in an unconditionally loving nonjudgmental way\n\nthere is a focus on children in this project why did you gravitate toward kids\n\nwhen kids are there they steal the show i do love me some old people though the beginning and the end of the life spectrum but i think when you look at kids you definitely see what we’re investing in what those kids are eating how they’re living it is a real indicator of the future you can see red or blue states or left or right but i don’t think anyone doesn’t come together in agreement that we all want to take care of our kids\n\nfood insecurity is a topic of national conversation what is the subtext that you know to be true when you see those headlines\n\nthere’s this idea that people have to deserve being fed to earn their right to eat in covid that has been laid aside and you have people from across the political spectrum showing up at food lines there’s a moratorium on the shame and your virtue being tied to feeding yourself\n\nwhen i see those headlines i want to keep it in the forefront of our collective consciousness that — just like the great depression — the people who are going to be the hardest hit by struggle have always been struggling there has been a landscape of insecurity and economic inequity that has only been widening over the past decade\n\n\nRecommendation 4\n\nDate : 2020-09-15 00:00:00\nTitle : Indian decacorn Byju’s CEO talks about future acquisitions, coronavirus and international expansion – TechCrunch\nLink : http://techcrunch.com/2020/09/15/indian-decacorn-byjus-ceo-talks-about-future-acquisitions-coronavirus-and-international-expansion/\nSimilarity score: 0.832628819814125\nDetails : since india enforced a lockdown across the country in late march shutting schools and other public places bangaloreheadquartered startup byju’s has emerged as one of the quintessential platforms for schoolgoing students in the world’s second largest internet market\n\nit took the startup about four and a half years to amass  million students since the lockdown its user base has ballooned to  million its cofounder and chief executive byju raveendran said at the disrupt  conference tuesday\n\nstudents say they were attracted to byju’s platform because of the way it taught them subjects byju who is a teacher himself found intuitive ways like using reallife objects such as a pizza to teach complex math problems\n\nhis startup is valued at nearly  billion as of last week which makes it india’s second most valuable startup and has presence across several international markets late last year byju’s announced it has also turned profitable it’s not everyday that we see an indian startup with any of these three characteristics — let alone all three in one\n\nin a wideranging interview at disrupt  raveendran shared the journey of byju’s which started as an offline platform that taught students at classrooms auditoriums and stadiums the startup’s plans for further expansion in international markets his views on merger and acquisition opportunities and how the coronavirus pandemic has affected his business and the education landscape at large in india among a number of other things\n\n“unfortunately it took a pandemic for most stakeholders to try out digital learning parents are now accepting the online segment more than before this sector is clearly at an inflexion point” said raveendran\n\nto make online learning more accessible to students byju’s made all of its offerings free during the pandemic but the platform’s paying subscribers now at more than  million remains on a steady path of growth he said\n\nthe startup expects to generate more than  billion in revenue this year from india itself and take home profits between  million to  million he said\n\n“i would still call it a relative success what we consider as the target audience we have less than  of penetration in that segment” he said “more than onethird of schoolgoing students don’t have a smartphone there’s still a lot of catch up to do”\n\nanother phenomenon that the pandemic has kickstarted in india is some consolidation in the edtech startup space byju’s itself acquired whitehat jr an monthold startup that teaches coding skills to students for  million\n\ntechcrunch has reported that the startup is engaging with several more startups including indian firm doubtnut which through its app allows students to take a picture of a math problem and delivers a stepbystep solution\n\nhere’s what raveendran had to say about that “the longterm potential of the sector is at an alltime high … we are looking for companies that can add strong product components to either our existing user base or potential new customers in new markets or companies that can give us some kind of distribution so that we get a head start to launch in a new market — especially english speaking markets”\n\n“you will hear of a few more acquisitions from us we are exploring some of them very seriously” he added the future acquisitions will again be allcash deals raveendran said as he “values equity more than others”\n\non ipo fundraise and international expansion\n\nbyju’s isn’t looking to go public for at least two years the chief executive said “we have strong business fundamentals we have been able to find the right balance between highgrowth and sustainable growth and created a very profitable model in such a short period of time but we have not seriously thought about the public listing” he added\n\nand it appears that investors in byju’s are also not in a hurry “we don’t need to do public listing to give exit to some of the early investors because the business itself will generate enough cash a good number of them have already taken the money they invested out in the last few rounds” he said\n\nbyju’s has raised more than  million this year we asked raveendran why is the startup raising capital “we have been very capitalefficient in terms of how we have used the primary capital we have raised in the first five years we have utilized less than  million of the primary capital — which shows how we have efficiently scaled the model” he said\n\n“most of the recent fundraising is to finance inorganic growth like fullcash acquisitions we are utilizing it to add some strong business models we never raised money because we needed it it was always to add the right partner in recent times we have added longterm patient investors” he said byju’s is likely not done with its fundraising spree yet as the startup is currently engaging with at least two more investment firms\n\nfor expansion in international markets raveendran said it plans to launch a digital learning app aimed at kids in several englishspeaking markets he said whitehat jr will introduce math subjects to its offering to serve customers in several markets including australia new zealand\n\nwe also talked about what he thinks of other giant startups in india that are not profitable today the kind of message that sends to international investors and whether there is room for any new player in the education market in india and much more you can watch the full interview below\n\n\nRecommendation 5\n\nDate : 2020-08-31 00:00:00\nTitle : Chan Zuckerberg Initiative backs Indian education startup Eruditus in $113 million fundraise – TechCrunch\nLink : http://techcrunch.com/2020/08/31/chan-zuckerberg-initiative-backs-indian-education-startup-eruditus-in-113-million-fundraise/\nSimilarity score: 0.8255782488950019\nDetails : mumbaibased eruditus which works with top universities globally to offer more than  executivelevel courses to students in over  nations said on monday it has raised  million in a new financing round as it looks to further scale its business to reach more learners\n\nthe series d financing round for the yearold startup was coled by leeds illuminate and prosus ventures chan zuckerberg initiative and existing investors sequoia india and ved capital also participated in the round which brings eruditus’ todate raise to more than  million eruditus is now valued at over  million a person familiar with the matter said avendus capital was the financial advisor to eruditus on this transaction\n\neruditus maintains a tieup with over  toptier universities including mit harvard columbia cambridge insead wharton uc berkeley iit iim and nus the universities and eruditus work to develop courses that are aimed at offering higher education to students these courses cost anything between  to \n\nthere’s no shortage of startups that offer similar courses to students for free or at the price of a cup of coffee at a conference last year ashwin damera eruditus cofounder and chief executive of eruditus said his startup provides a range of additional offerings including tailored learning and tracks the outcome of the course in a student’s life\n\nthe startup which has offices in six countries and employs more than  people said it has enrolled  students in the past  months\n\neruditus is the second startup that chan zuckerberg initiative has backed in india its first investment in the country byju’s also operates in the edtech market in fact it’s grown to become the most valued edtech startup in the world\n\n“eruditus serves as a critical innovation partner for top universities as they expand online course offerings in response to workforce needs and market demand” said vivian wu managing partner ventures chan zuckerberg initiative in a statement “we’re excited to support the growing partnerships between us universities and those in india china and latin america that are making truly highquality education accessible to a broad and diverse range of students”\n\neruditus said it will use the fresh capital to partner with more universities and expand in emerging markets it said it also wants to invest in developing careerready courses to help the workforce acquire the skills they need to survive in the postpandemic world\n\n“eruditus’ goals are a great match for ours — democratizing access of quality resources for a much broader audience the value of the teachings of the great institutions has been rationed to those who can physically and monetarily access their facilities eruditus unlocks those assets and enables those institutions to help a whole new cohort of learners around the globe” said ashutosh sharma head of investments for india at prosus ventures which has invested in six edtech startups including byju’s\n\n\nRecommendation 6\n\nDate : 2020-09-15 21:16:12+00:00\nTitle : Nvidia to buy chip designer Arm for $40 billion as SoftBank exits\nLink : https://uk.reuters.com/article/us-softbank-group-nvidia-arm-idUSKBN264110\nSimilarity score: 0.8247878002454271\nDetails : tokyosan franciscolondon reuters  nvidia corp will buy ukbased chip designer arm from japan’s softbank group corp for as much as  billion the companies said on monday in a deal set to reshape the global semiconductor sector\n\nthe sale puts a vital supplier to apple inc and others across the industry under the control of a single player and faces likely pushback from regulators and rivals to nvidia the biggest us chip company by market capitalisation\n\nwithin hours of the announcement critics questioned how arm would maintain its open approach under us ownership and at a time of friction with china\n\nnvidia ceo jensen huang emphasised that arm would retain its neutral licensing model and expand it by licensing out nvidia intellectual property for the first time\n\n“we want to grow arm and make it become even greater” he told analysts on a conference call\n\nfor softbank the sale marks an early exit from arm which it acquired for  billion chief executive masayoshi son has lionised the potential of arm but is slashing his stakes in major assets to raise cash\n\nthe move comes as softbank executives frustrated at the group’s share performance have held early stage talks about taking the japanese technology group private a source told reuters those talks could gain momentum following the arm sale softbank’s shares soared  in tokyo\n\nnvidia will pay softbank  billion in shares and  billion in cash including  billion on signing the deal will see softbank and its  billion vision fund which has a  stake in arm take a stake in nvidia of between  and \n\nnvidia will license its flagship graphical processor unit through arm’s network of silicon partners it will build chips for devices like selfdriving cars but also make its technology available for others\n\ntaiwanborn huang has promised to site a new artificial intelligence research centre  equipped with its own supercomputer  at arm’s base in the university city of cambridge and said the company was ready to talk to the british government about expanding arm’s research efforts\n\nhe stopped short of offering fresh job guarantees however\n\nchina scrutiny\n\narm does not make chips but has created an instruction set architecture  the most fundamental intellectual property that underpins computing chips  on which it bases designs for computing cores\n\nfile photo an nvidia logo is shown at siggraph  in los angeles california us july   reutersmike blakefile photo\n\narm licenses its chip designs and technology to customers like qualcomm inc apple and samsung electronics co ltd apple’s forthcoming mac computers will use armbased chips\n\narm will not become subject to us export controls under the deal said huang\n\nthe purchase which is subject to regulatory approvals including in britain the united states and china is likely to come under close scrutiny in china where thousands of companies from huawei to small startups use arm technology\n\nnvidia will take control of the minority stake in joint venture arm china arm is in dispute with the venture which licenses chip architecture to local companies over its management\n\ncofounded by huang who has a penchant for leather jackets and a nvidia arm tattoo the firm began as a graphics chip designer but has expanded aggressively into products for areas including artificial intelligence and data centers\n\nthe arm acquisition will put nvidia into even more intense competition with rivals in the data center chip market such as intel and advanced micro devices inc because arm has been developing technology to compete with their chips\n\nin what would amount to a direct challenge to those rivals huang said it is “possible” nvidia will build its own server chips based on arm designs\n\nnvidia is buying up technologies in parts of the booming data center business where it does not currently play\n\nin april it completed the purchase of israelbased mellanox inc which makes highspeed networking technology that is used in data centers and supercomputers\n\nthe arm deal is expected to close by march \n\nsoftbank could be paid an additional  billion in cash or shares depending on the chip designer’s business performance with arm employees to be paid  billion in nvidia shares\n\n\nRecommendation 7\n\nDate : 2020-08-17 23:01:16+00:00\nTitle : 'COVID generation' risks child marriage, forced labour, ex-leaders warn\nLink : https://in.reuters.com/article/health-coronavirus-education-childlabour-idINL8N2FJ49L\nSimilarity score: 0.8194421839097229\nDetails : london aug  thomson reuters foundation  former world leaders called on tuesday for urgent global action to stop coronavirus creating a “covid generation” with millions of children deprived of education and forced into marriage and work\n\nas lockdowns end they urged governments to invest in catchup programmes to prevent irretrievable damage to children’s futures\n\n“we cannot stand by and allow these young people to be robbed of their education and a fair chance in life” said the letter signed by  former world leaders economists and educationalists\n\nsignatories included former un chief ban kimoon former irish president mary robinson former new zealand prime minister helen clark and former british prime ministers gordon brown tony blair and john major\n\nof particular concern are an estimated  million children who may never return to school despite lockdowns ending\n\n“for these the world’s least advantaged children education is often the only escape from poverty  a route that is in danger of closing” said the letter addressed to g heads governments the world bank imf and development banks\n\n“many  are adolescent girls for whom being in school is the best defence against forced marriage and the best hope for a life of expanded opportunity”\n\nworldwide an estimated  million girls are wed every year before the age of   nearly one girl every three seconds\n\nun experts have predicted the pandemic could lead to an extra  million child marriages over the next decade here\n\nthe former leaders and economists said many other outofschool children risked being forced into exploitative and dangerous labour\n\nun agencies say the number of child labourers worldwide has dropped to  million from  million in  but fear the pandemic could spur the first uptick in child labour in  years as families struggle to survive the economic fallout\n\nthe former leaders warned that the education emergency would jeopardise global goals to end poverty and inequality by  and could set back progress on gender equity by years\n\nmore than a billion children are still out of school because of lockdowns the letter said while many have benefited from elearning lack of internet access has left the poorest shut out of education\n\nschool closures have also increased hunger with  million children losing free school meals\n\nthe former leaders warned that education spending in low and middleincome countries faced  billion in cuts\n\nthey urged g heads national governments and global financial institutions to back an emergency plan including the protection of frontline national education budgets debt relief for poor countries and increased multilateral aid\n\nthe letter also called for more support for online learning personalised learning teacher training cash assistance for poor families and safer schools that meet social distancing rules reporting by emma batha emmabatha editing by claire cozens please credit the thomson reuters foundation the charitable arm of thomson reuters which covers the lives of people around the world who struggle to live freely or fairly visit newstrustorg\n\n\nRecommendation 8\n\nDate : 2020-09-12 04:50:09+00:00\nTitle : Oxygen grows scarce in some parts of India as coronavirus cases rise\nLink : https://in.reuters.com/article/health-coronavirus-india-cases-idINKBN26307L\nSimilarity score: 0.8108786648297401\nDetails : mumbai reuters  oxygen supply has grown scarce in some parts of india hard hit by coronavirus hospital and local government officials said as india reported a record daily jump in cases for a second consecutive day logging  new infections on saturday\n\nslideshow   images \n\nwith total cases of more than  million india is the world’s second worst affected country trailing only the united states which has more than  million cases\n\ntotal covid deaths stood at  putting india in third place in a ranking of countries’ fatalities but the growth in infections in india is faster than anywhere else in the world as cases surge through urban and rural areas\n\nthe western state of maharashtra has been particularly hardhit with total confirmed cases breaching the  million mark late on friday making it the first state or province anywhere in the world to cross that mark\n\nif the state which is india’s richest were a country it would rival russia for the fourth highest number of coronavirus cases globally\n\nin some parts of the state medical oxygen was becoming hard to find dr amit thadhani medical director of niramaya hospitals in panvel a suburb of india’s financial capital mumbai said the shortage in his area was acute\n\n“the problem is that the filling stations are themselves not getting supply of oxygen from the manufacturers supplies are extremely limited” thadhani said\n\n“if we ask for  cylinders we may get about  to ”\n\nan official from the navi mumbai municipal corporation in a neighbouring suburb said they had received reports from multiple hospitals about dwindling oxygen supplies and made requests to state authorities “demand has risen in last few day because of rising cases” the official said\n\nthe corporation’s commissioner abhijit bangar was not immediately available for comment\n\ngovernment officials and experts said the unabated rise in cases in maharashtra and other parts of the country were likely a result of economic activity restarting local festivals and lockdown fatigue\n\n“i am so disappointed with the pandemic situation in india” bhramar mukherjee a professor of biostatistics and epidemiology at the university of michigan who has been tracking india’s covid situation closely said on twitter\n\n“it is getting worse and worse each week but a large part of the nation seems to have made the choice to ignore this crisis” she said\n\n\nRecommendation 9\n\nDate : 2020-09-02 00:00:00\nTitle : 3one4 Capital launches $100M fund to back early-stage startups in India – TechCrunch\nLink : http://techcrunch.com/2020/09/02/3one4-capital-launches-100m-fund-to-back-early-stage-startups-in-india/\nSimilarity score: 0.8090952536974957\nDetails : one capital a venture capital firm in india today announced a  million fund as the young investment firm looks to back more earlystage startups in the world’s second largest internet market\n\nthe new fund third for the fiveyearold bangaloreheadquartered investment firm has already secured  million from new and existing investors one capital which closed its previous fund late last year now manages over  million in capital\n\nin the last four years one capital — founded by pranav pai and siddarth pai sons of tv mohandas pai a widely respected industry figure who served as a senior executive at infosys — has backed more than  startups\n\nsome of its highprofile profile investments include neobanking startups open and jupiter digital entertainment firm pocket aces hr software provider darwinbox mobility firm yulu and licious which sells fresh meat digitally\n\nin an interview with techcrunch pranav said the new fund would enable one capital to continue to invest in a wide range of earlystage startups the firm largely focuses on seed and preseries a financing rounds but it has also backed startups in series a and laterstage deals\n\npranav said his firm will continue to invest across five categories — namely directtoconsumer tech media and content fintech deep technology and saas and enterprise automation in addition to exploring some new opportunities\n\none capital’s first two funds have performed very well and doubled the investment capital before entering the fourth year said siddarth but he declined to reveal the figures citing confidentiality agreements\n\nneither of the pai brothers had a background in investment before they started one capital and pranav said that’s one of the things that differentiates them from others “we are a very young firm nobody has joined one capital with prior vc experience our approaches are different” he said\n\nthe brothers said they will invest in  to  startups through this new fund — which is always exciting to hear\n\nscores of vc firms in india including blume ventures lightspeed india partners sequoia capital india good capital and india quotient are today focusing on earlystage startups but data from research firm tracxn — another portfolio startup of one capital — suggests that each year we are seeing fewer young firms secure capital\n\n\nRecommendation 10\n\nDate : 2020-09-10 00:00:00\nTitle : Trump’s Whole Brand Is Panic, Trevor Noah Says\nLink : https://www.nytimes.com/2020/09/10/arts/television/trump-woodward-panic-trevor-noah.html\nSimilarity score: 0.8083077719022563\nDetails : “and look i get that as a leader you don’t want people to panic but you also want to inform the people so they can be safe you know if a plane is crashing a pilot will tell you to remain calm but they’ll also tell you to fasten your seatbelts and brace for impact if trump was a pilot he’d be like ‘attention all passengers everything is fine seatbelts are for snowflakes and if you want to stretch your legs now’s the perfect time byebye’” — trevor noah\n\n“you didn’t want to create a panic so what did you want for people to very calmly be dying in the streets” — trevor noah\n\n“well good job with that this country’s never been more chill a lot of people aren’t even moving” — seth meyers\n\n“america’s as cool as a cucumber right now sure we’re stealing toilet paper every time we go into a starbucks and trader joe’s looks like the last scene of ‘apocalypse now’ but other than that it’s all good baby” — seth meyers\n\n“well thank god thank god none of us panicked you know i might have freaked out and stayed inside for six months” — james corden\n\n“yeah it’s a catastrophic story for trump that threatens to end his presidency or as he calls it ‘wednesday’” — jimmy fallon\n\n\nRecommendation by content similarity date sorted\n\nRecommendation 1\n\nDate : 2020-09-15 00:00:00+00:00\nTitle : Virtual events platform Airmeet raises $12M – TechCrunch\nLink : http://techcrunch.com/2020/09/15/virtual-events-platform-airmeet-raises-12m/\nSimilarity score: 0.8678524415065821\nDetails : airmeet a startup that offers a platform to host virtual events said on tuesday it has raised  million in a new financing round as the bangaloreheadquartered firm demonstrates accelerating growth in its user base\n\nsequoia capital india led the  million series a financing round in oneyearold airmeet redpoint ventures and existing investors accel india venture highway global founders capital gfc and gokul rajaram caviar lead at doordash also participated in the round\n\nthe new round values airmeet at about  million more than double of what it was valued in march when it raised  million according to a person familiar with the matter\n\nairmeet allows users and businesses to host interactive virtual events its platform intuitively replicates aspects of a physical event offering a backstage grouping people to a table allowing participants to network with each other and even enabling event organizers to work with sponsors airmeet currently in public beta is available through a freemium model where it charges businesses based on their usage\n\nin an interview with techcrunch lalit mangal cofounder of airmeet said the usage on the platform has grown  over the last quarter without any investment in advertisement he said\n\nin recent months airmeet has worked to expand the use cases of the platform in addition to hosting large conferences airmeet is now also being used for professional meetups at large film festivals he said recently it held university resource fairs and technical industry summits\n\n“covid has accelerated a permanent behavioral shift across many industries with digitization of largely traditional spaces leapfrogging by years the  billion global offline events space is up for grabs there is massive potential for players who drive the industry’s transition towards onlineevents” said abhishek mohan vp at sequoia capital india in a statement\n\nairmeet is built on top of webrtc a standard that most modern browsers follow this has enabled airmeet to be fully accessible through chrome and firefox all the sessions are also endtoend encrypted said mangal it does not have a mobile app mangal said people tend to use their laptop or desktop or their ipads for professional events users can consume a session through their mobile browser however\n\nthe startup which is in the same space as hopin and andreessen horowitzbacked run the world will use the fresh capital to add new features to airmeet and also scale globally said mangal\n\n“airmeet’s mission is to create a global platform to enable millions of community managers and event organizers across the world to engage with and expand their audience and with lalit and team’s focus execution and innovative thinking they are strongly placed to achieve their goal” said mohan\n\n\nRecommendation 2\n\nDate : 2020-09-07 00:00:00+00:00\nTitle : HumanForest gets $2.3M from Cabify founders and others to grow a ‘free’ e-bike sharing service – TechCrunch\nLink : http://techcrunch.com/2020/09/07/humanforest-gets-2-3m-from-cabify-founders-and-others-to-grow-a-free-e-bike-sharing-service/\nSimilarity score: 0.8410198873094101\nDetails : humanforest a dockless shared and adsupported ebike service which began trialling a service in london this june has taken in its first tranche of external funding the £ million m investment comes from backers in the mobility space including juan de antonio and vicente pascual founders of ridesharing app cabify\n\nas part of the investment cabify’s pascual has joined the humanforest board along with stefan tilks exvolvo president and ceo of nevs ab a swedish electric car manufacturer humanforest’s cofounder and ceo agustin guilisasti is a former cabify country manager\n\nhumanforest’s ebike sharing service is limited to london for now and journeys must also be terminated within just two boroughs in north london islington and camden though it’s aiming to expand parking to other boroughs within the capital as it scales\n\nit says the new funding will be used to grow its bike fleet to  at the end of this month — and is aiming to have  ebikes in london within a year\n\nebike sharing has exploded in recent years with ridehailing giants like uber jumping into the category as mobility players seek to diversify and while uber soon offloaded its jump bike assets in europe to micromobility player lime after making a major investment in the escooter rival service gaps in key commuter cities are quick to attract new rivals — such as bolt now pushing an ebike offering in paris\n\ndespite all this activity humanforest reckons there’s still room to innovate on the ebike sharing model\n\nits flagship pledge is it’s london’s only “free” shared ebike service — as it offers users  free minutes of ride time per day the free ride minutes are supported by ads shown via the humanforest app pricing thereafter is £ per minute though humanforest says users may be able to gain further free ride minutes via promotions and competitions\n\npartner companies for humanforest’s digital marketing platform which includes the likes of whole foods and rude health at this starter stage are thus subsidising free trips in exchange for pushing their marketing message within a social impact product\n\nanother strand to its model is a subscription ebike service for corporates — with humanforest spying an opportunity to offer londoners an alternative and green means of commuting to work in the postcovid era that avoids the need to pack onto public transport\n\nhumanforest’s ebikes are powered by a rechargeable battery pack that’s good for km on a single charge it takes care of charging and swapping the packs — and touts that both batteries and its service vehicles are changed with certified renewable energy sources\n\ncommenting on the funding in a statement pascual said “i worked with the team at humanforest for ten years at cabify and i believe that this is another disruptor it is three disruptors in one it provides free mobility for users through its partnership model protects the planet and appeals to partner companies who seek to demonstrate their social impact we are already seeing the success of the model and i am excited to be involved in its future growth”\n\nwhile shared mobility services have also been hit by concerns related to risk of exposure to the novel coronavirus bikes are at least used outdoors where there are no worries about lack of ventilation\n\non sanitation an faq on humanforest’s website notes that disinfectant spray is provided with each ebike it recommends users wipe down the handlebars and brake handles before and after riding as well as suggesting the wearing of gloves\n\n\nRecommendation 3\n\nDate : 2020-09-02 00:00:00+00:00\nTitle : When Hunger Is on the Doorstep\nLink : https://www.nytimes.com/2020/09/02/insider/food-insecurity-families.html\nSimilarity score: 0.8384155898878194\nDetails : you finished this trip several weeks ago but is there any image that has stuck with you\n\nit is a visit to one family it’s a girl she’s eating soup that was made by her dad and she’s  years old she has adhd she is raised by a dad whose husband died the dad was in the military a gay man during the time of don’t ask don’t tell he adopted this girl from a family member now he’s in his s and she is approaching young womanhood they are eating pasta shells that he sautéed up in a pan with a can of tomato soup and a can of diced tomatoes and that was what he calls “cheap soup” there was nothing in that photo that belies anything that i told you as a back story including the urn that he had next to his bookcase with the rainbow flag over it that contains his husband\n\ni left there feeling that i wanted her voice to be heard i believe i felt that way because i didn’t see the pathway for that to happen sometimes being welladjusted is not what you want you don’t want to be comfortable with scarcity so the feeling that i had with that family was bittersweet i love the fact that they had each other and they weren’t complaining about it and they formed a family yet i hoped that her voice could be heard so that she is the new face of our future\n\nhow did your upbringing inform how you approached this project\n\ni would say that has fully formed the human being that i am and so i’m able to approach a lot of situations in life with experience that allows me to just receive whoever is gracious enough to invite me into their life that is much more important than any kind of knowledge of photography being human being rich in lived experience enables you to sit down at a table literally and figuratively and be present in an unconditionally loving nonjudgmental way\n\nthere is a focus on children in this project why did you gravitate toward kids\n\nwhen kids are there they steal the show i do love me some old people though the beginning and the end of the life spectrum but i think when you look at kids you definitely see what we’re investing in what those kids are eating how they’re living it is a real indicator of the future you can see red or blue states or left or right but i don’t think anyone doesn’t come together in agreement that we all want to take care of our kids\n\nfood insecurity is a topic of national conversation what is the subtext that you know to be true when you see those headlines\n\nthere’s this idea that people have to deserve being fed to earn their right to eat in covid that has been laid aside and you have people from across the political spectrum showing up at food lines there’s a moratorium on the shame and your virtue being tied to feeding yourself\n\nwhen i see those headlines i want to keep it in the forefront of our collective consciousness that — just like the great depression — the people who are going to be the hardest hit by struggle have always been struggling there has been a landscape of insecurity and economic inequity that has only been widening over the past decade\n\n\nRecommendation 4\n\nDate : 2020-09-15 00:00:00+00:00\nTitle : Indian decacorn Byju’s CEO talks about future acquisitions, coronavirus and international expansion – TechCrunch\nLink : http://techcrunch.com/2020/09/15/indian-decacorn-byjus-ceo-talks-about-future-acquisitions-coronavirus-and-international-expansion/\nSimilarity score: 0.832628819814125\nDetails : since india enforced a lockdown across the country in late march shutting schools and other public places bangaloreheadquartered startup byju’s has emerged as one of the quintessential platforms for schoolgoing students in the world’s second largest internet market\n\nit took the startup about four and a half years to amass  million students since the lockdown its user base has ballooned to  million its cofounder and chief executive byju raveendran said at the disrupt  conference tuesday\n\nstudents say they were attracted to byju’s platform because of the way it taught them subjects byju who is a teacher himself found intuitive ways like using reallife objects such as a pizza to teach complex math problems\n\nhis startup is valued at nearly  billion as of last week which makes it india’s second most valuable startup and has presence across several international markets late last year byju’s announced it has also turned profitable it’s not everyday that we see an indian startup with any of these three characteristics — let alone all three in one\n\nin a wideranging interview at disrupt  raveendran shared the journey of byju’s which started as an offline platform that taught students at classrooms auditoriums and stadiums the startup’s plans for further expansion in international markets his views on merger and acquisition opportunities and how the coronavirus pandemic has affected his business and the education landscape at large in india among a number of other things\n\n“unfortunately it took a pandemic for most stakeholders to try out digital learning parents are now accepting the online segment more than before this sector is clearly at an inflexion point” said raveendran\n\nto make online learning more accessible to students byju’s made all of its offerings free during the pandemic but the platform’s paying subscribers now at more than  million remains on a steady path of growth he said\n\nthe startup expects to generate more than  billion in revenue this year from india itself and take home profits between  million to  million he said\n\n“i would still call it a relative success what we consider as the target audience we have less than  of penetration in that segment” he said “more than onethird of schoolgoing students don’t have a smartphone there’s still a lot of catch up to do”\n\nanother phenomenon that the pandemic has kickstarted in india is some consolidation in the edtech startup space byju’s itself acquired whitehat jr an monthold startup that teaches coding skills to students for  million\n\ntechcrunch has reported that the startup is engaging with several more startups including indian firm doubtnut which through its app allows students to take a picture of a math problem and delivers a stepbystep solution\n\nhere’s what raveendran had to say about that “the longterm potential of the sector is at an alltime high … we are looking for companies that can add strong product components to either our existing user base or potential new customers in new markets or companies that can give us some kind of distribution so that we get a head start to launch in a new market — especially english speaking markets”\n\n“you will hear of a few more acquisitions from us we are exploring some of them very seriously” he added the future acquisitions will again be allcash deals raveendran said as he “values equity more than others”\n\non ipo fundraise and international expansion\n\nbyju’s isn’t looking to go public for at least two years the chief executive said “we have strong business fundamentals we have been able to find the right balance between highgrowth and sustainable growth and created a very profitable model in such a short period of time but we have not seriously thought about the public listing” he added\n\nand it appears that investors in byju’s are also not in a hurry “we don’t need to do public listing to give exit to some of the early investors because the business itself will generate enough cash a good number of them have already taken the money they invested out in the last few rounds” he said\n\nbyju’s has raised more than  million this year we asked raveendran why is the startup raising capital “we have been very capitalefficient in terms of how we have used the primary capital we have raised in the first five years we have utilized less than  million of the primary capital — which shows how we have efficiently scaled the model” he said\n\n“most of the recent fundraising is to finance inorganic growth like fullcash acquisitions we are utilizing it to add some strong business models we never raised money because we needed it it was always to add the right partner in recent times we have added longterm patient investors” he said byju’s is likely not done with its fundraising spree yet as the startup is currently engaging with at least two more investment firms\n\nfor expansion in international markets raveendran said it plans to launch a digital learning app aimed at kids in several englishspeaking markets he said whitehat jr will introduce math subjects to its offering to serve customers in several markets including australia new zealand\n\nwe also talked about what he thinks of other giant startups in india that are not profitable today the kind of message that sends to international investors and whether there is room for any new player in the education market in india and much more you can watch the full interview below\n\n\nRecommendation 5\n\nDate : 2020-08-31 00:00:00+00:00\nTitle : Chan Zuckerberg Initiative backs Indian education startup Eruditus in $113 million fundraise – TechCrunch\nLink : http://techcrunch.com/2020/08/31/chan-zuckerberg-initiative-backs-indian-education-startup-eruditus-in-113-million-fundraise/\nSimilarity score: 0.8255782488950019\nDetails : mumbaibased eruditus which works with top universities globally to offer more than  executivelevel courses to students in over  nations said on monday it has raised  million in a new financing round as it looks to further scale its business to reach more learners\n\nthe series d financing round for the yearold startup was coled by leeds illuminate and prosus ventures chan zuckerberg initiative and existing investors sequoia india and ved capital also participated in the round which brings eruditus’ todate raise to more than  million eruditus is now valued at over  million a person familiar with the matter said avendus capital was the financial advisor to eruditus on this transaction\n\neruditus maintains a tieup with over  toptier universities including mit harvard columbia cambridge insead wharton uc berkeley iit iim and nus the universities and eruditus work to develop courses that are aimed at offering higher education to students these courses cost anything between  to \n\nthere’s no shortage of startups that offer similar courses to students for free or at the price of a cup of coffee at a conference last year ashwin damera eruditus cofounder and chief executive of eruditus said his startup provides a range of additional offerings including tailored learning and tracks the outcome of the course in a student’s life\n\nthe startup which has offices in six countries and employs more than  people said it has enrolled  students in the past  months\n\neruditus is the second startup that chan zuckerberg initiative has backed in india its first investment in the country byju’s also operates in the edtech market in fact it’s grown to become the most valued edtech startup in the world\n\n“eruditus serves as a critical innovation partner for top universities as they expand online course offerings in response to workforce needs and market demand” said vivian wu managing partner ventures chan zuckerberg initiative in a statement “we’re excited to support the growing partnerships between us universities and those in india china and latin america that are making truly highquality education accessible to a broad and diverse range of students”\n\neruditus said it will use the fresh capital to partner with more universities and expand in emerging markets it said it also wants to invest in developing careerready courses to help the workforce acquire the skills they need to survive in the postpandemic world\n\n“eruditus’ goals are a great match for ours — democratizing access of quality resources for a much broader audience the value of the teachings of the great institutions has been rationed to those who can physically and monetarily access their facilities eruditus unlocks those assets and enables those institutions to help a whole new cohort of learners around the globe” said ashutosh sharma head of investments for india at prosus ventures which has invested in six edtech startups including byju’s\n\n\nRecommendation 6\n\nDate : 2020-09-15 21:16:12+00:00\nTitle : Nvidia to buy chip designer Arm for $40 billion as SoftBank exits\nLink : https://uk.reuters.com/article/us-softbank-group-nvidia-arm-idUSKBN264110\nSimilarity score: 0.8247878002454271\nDetails : tokyosan franciscolondon reuters  nvidia corp will buy ukbased chip designer arm from japan’s softbank group corp for as much as  billion the companies said on monday in a deal set to reshape the global semiconductor sector\n\nthe sale puts a vital supplier to apple inc and others across the industry under the control of a single player and faces likely pushback from regulators and rivals to nvidia the biggest us chip company by market capitalisation\n\nwithin hours of the announcement critics questioned how arm would maintain its open approach under us ownership and at a time of friction with china\n\nnvidia ceo jensen huang emphasised that arm would retain its neutral licensing model and expand it by licensing out nvidia intellectual property for the first time\n\n“we want to grow arm and make it become even greater” he told analysts on a conference call\n\nfor softbank the sale marks an early exit from arm which it acquired for  billion chief executive masayoshi son has lionised the potential of arm but is slashing his stakes in major assets to raise cash\n\nthe move comes as softbank executives frustrated at the group’s share performance have held early stage talks about taking the japanese technology group private a source told reuters those talks could gain momentum following the arm sale softbank’s shares soared  in tokyo\n\nnvidia will pay softbank  billion in shares and  billion in cash including  billion on signing the deal will see softbank and its  billion vision fund which has a  stake in arm take a stake in nvidia of between  and \n\nnvidia will license its flagship graphical processor unit through arm’s network of silicon partners it will build chips for devices like selfdriving cars but also make its technology available for others\n\ntaiwanborn huang has promised to site a new artificial intelligence research centre  equipped with its own supercomputer  at arm’s base in the university city of cambridge and said the company was ready to talk to the british government about expanding arm’s research efforts\n\nhe stopped short of offering fresh job guarantees however\n\nchina scrutiny\n\narm does not make chips but has created an instruction set architecture  the most fundamental intellectual property that underpins computing chips  on which it bases designs for computing cores\n\nfile photo an nvidia logo is shown at siggraph  in los angeles california us july   reutersmike blakefile photo\n\narm licenses its chip designs and technology to customers like qualcomm inc apple and samsung electronics co ltd apple’s forthcoming mac computers will use armbased chips\n\narm will not become subject to us export controls under the deal said huang\n\nthe purchase which is subject to regulatory approvals including in britain the united states and china is likely to come under close scrutiny in china where thousands of companies from huawei to small startups use arm technology\n\nnvidia will take control of the minority stake in joint venture arm china arm is in dispute with the venture which licenses chip architecture to local companies over its management\n\ncofounded by huang who has a penchant for leather jackets and a nvidia arm tattoo the firm began as a graphics chip designer but has expanded aggressively into products for areas including artificial intelligence and data centers\n\nthe arm acquisition will put nvidia into even more intense competition with rivals in the data center chip market such as intel and advanced micro devices inc because arm has been developing technology to compete with their chips\n\nin what would amount to a direct challenge to those rivals huang said it is “possible” nvidia will build its own server chips based on arm designs\n\nnvidia is buying up technologies in parts of the booming data center business where it does not currently play\n\nin april it completed the purchase of israelbased mellanox inc which makes highspeed networking technology that is used in data centers and supercomputers\n\nthe arm deal is expected to close by march \n\nsoftbank could be paid an additional  billion in cash or shares depending on the chip designer’s business performance with arm employees to be paid  billion in nvidia shares\n\n\nRecommendation 7\n\nDate : 2020-08-17 23:01:16+00:00\nTitle : 'COVID generation' risks child marriage, forced labour, ex-leaders warn\nLink : https://in.reuters.com/article/health-coronavirus-education-childlabour-idINL8N2FJ49L\nSimilarity score: 0.8194421839097229\nDetails : london aug  thomson reuters foundation  former world leaders called on tuesday for urgent global action to stop coronavirus creating a “covid generation” with millions of children deprived of education and forced into marriage and work\n\nas lockdowns end they urged governments to invest in catchup programmes to prevent irretrievable damage to children’s futures\n\n“we cannot stand by and allow these young people to be robbed of their education and a fair chance in life” said the letter signed by  former world leaders economists and educationalists\n\nsignatories included former un chief ban kimoon former irish president mary robinson former new zealand prime minister helen clark and former british prime ministers gordon brown tony blair and john major\n\nof particular concern are an estimated  million children who may never return to school despite lockdowns ending\n\n“for these the world’s least advantaged children education is often the only escape from poverty  a route that is in danger of closing” said the letter addressed to g heads governments the world bank imf and development banks\n\n“many  are adolescent girls for whom being in school is the best defence against forced marriage and the best hope for a life of expanded opportunity”\n\nworldwide an estimated  million girls are wed every year before the age of   nearly one girl every three seconds\n\nun experts have predicted the pandemic could lead to an extra  million child marriages over the next decade here\n\nthe former leaders and economists said many other outofschool children risked being forced into exploitative and dangerous labour\n\nun agencies say the number of child labourers worldwide has dropped to  million from  million in  but fear the pandemic could spur the first uptick in child labour in  years as families struggle to survive the economic fallout\n\nthe former leaders warned that the education emergency would jeopardise global goals to end poverty and inequality by  and could set back progress on gender equity by years\n\nmore than a billion children are still out of school because of lockdowns the letter said while many have benefited from elearning lack of internet access has left the poorest shut out of education\n\nschool closures have also increased hunger with  million children losing free school meals\n\nthe former leaders warned that education spending in low and middleincome countries faced  billion in cuts\n\nthey urged g heads national governments and global financial institutions to back an emergency plan including the protection of frontline national education budgets debt relief for poor countries and increased multilateral aid\n\nthe letter also called for more support for online learning personalised learning teacher training cash assistance for poor families and safer schools that meet social distancing rules reporting by emma batha emmabatha editing by claire cozens please credit the thomson reuters foundation the charitable arm of thomson reuters which covers the lives of people around the world who struggle to live freely or fairly visit newstrustorg\n\n\nRecommendation 8\n\nDate : 2020-09-12 04:50:09+00:00\nTitle : Oxygen grows scarce in some parts of India as coronavirus cases rise\nLink : https://in.reuters.com/article/health-coronavirus-india-cases-idINKBN26307L\nSimilarity score: 0.8108786648297401\nDetails : mumbai reuters  oxygen supply has grown scarce in some parts of india hard hit by coronavirus hospital and local government officials said as india reported a record daily jump in cases for a second consecutive day logging  new infections on saturday\n\nslideshow   images \n\nwith total cases of more than  million india is the world’s second worst affected country trailing only the united states which has more than  million cases\n\ntotal covid deaths stood at  putting india in third place in a ranking of countries’ fatalities but the growth in infections in india is faster than anywhere else in the world as cases surge through urban and rural areas\n\nthe western state of maharashtra has been particularly hardhit with total confirmed cases breaching the  million mark late on friday making it the first state or province anywhere in the world to cross that mark\n\nif the state which is india’s richest were a country it would rival russia for the fourth highest number of coronavirus cases globally\n\nin some parts of the state medical oxygen was becoming hard to find dr amit thadhani medical director of niramaya hospitals in panvel a suburb of india’s financial capital mumbai said the shortage in his area was acute\n\n“the problem is that the filling stations are themselves not getting supply of oxygen from the manufacturers supplies are extremely limited” thadhani said\n\n“if we ask for  cylinders we may get about  to ”\n\nan official from the navi mumbai municipal corporation in a neighbouring suburb said they had received reports from multiple hospitals about dwindling oxygen supplies and made requests to state authorities “demand has risen in last few day because of rising cases” the official said\n\nthe corporation’s commissioner abhijit bangar was not immediately available for comment\n\ngovernment officials and experts said the unabated rise in cases in maharashtra and other parts of the country were likely a result of economic activity restarting local festivals and lockdown fatigue\n\n“i am so disappointed with the pandemic situation in india” bhramar mukherjee a professor of biostatistics and epidemiology at the university of michigan who has been tracking india’s covid situation closely said on twitter\n\n“it is getting worse and worse each week but a large part of the nation seems to have made the choice to ignore this crisis” she said\n\n\nRecommendation 9\n\nDate : 2020-09-02 00:00:00+00:00\nTitle : 3one4 Capital launches $100M fund to back early-stage startups in India – TechCrunch\nLink : http://techcrunch.com/2020/09/02/3one4-capital-launches-100m-fund-to-back-early-stage-startups-in-india/\nSimilarity score: 0.8090952536974957\nDetails : one capital a venture capital firm in india today announced a  million fund as the young investment firm looks to back more earlystage startups in the world’s second largest internet market\n\nthe new fund third for the fiveyearold bangaloreheadquartered investment firm has already secured  million from new and existing investors one capital which closed its previous fund late last year now manages over  million in capital\n\nin the last four years one capital — founded by pranav pai and siddarth pai sons of tv mohandas pai a widely respected industry figure who served as a senior executive at infosys — has backed more than  startups\n\nsome of its highprofile profile investments include neobanking startups open and jupiter digital entertainment firm pocket aces hr software provider darwinbox mobility firm yulu and licious which sells fresh meat digitally\n\nin an interview with techcrunch pranav said the new fund would enable one capital to continue to invest in a wide range of earlystage startups the firm largely focuses on seed and preseries a financing rounds but it has also backed startups in series a and laterstage deals\n\npranav said his firm will continue to invest across five categories — namely directtoconsumer tech media and content fintech deep technology and saas and enterprise automation in addition to exploring some new opportunities\n\none capital’s first two funds have performed very well and doubled the investment capital before entering the fourth year said siddarth but he declined to reveal the figures citing confidentiality agreements\n\nneither of the pai brothers had a background in investment before they started one capital and pranav said that’s one of the things that differentiates them from others “we are a very young firm nobody has joined one capital with prior vc experience our approaches are different” he said\n\nthe brothers said they will invest in  to  startups through this new fund — which is always exciting to hear\n\nscores of vc firms in india including blume ventures lightspeed india partners sequoia capital india good capital and india quotient are today focusing on earlystage startups but data from research firm tracxn — another portfolio startup of one capital — suggests that each year we are seeing fewer young firms secure capital\n\n\nRecommendation 10\n\nDate : 2020-09-10 00:00:00+00:00\nTitle : Trump’s Whole Brand Is Panic, Trevor Noah Says\nLink : https://www.nytimes.com/2020/09/10/arts/television/trump-woodward-panic-trevor-noah.html\nSimilarity score: 0.8083077719022563\nDetails : “and look i get that as a leader you don’t want people to panic but you also want to inform the people so they can be safe you know if a plane is crashing a pilot will tell you to remain calm but they’ll also tell you to fasten your seatbelts and brace for impact if trump was a pilot he’d be like ‘attention all passengers everything is fine seatbelts are for snowflakes and if you want to stretch your legs now’s the perfect time byebye’” — trevor noah\n\n“you didn’t want to create a panic so what did you want for people to very calmly be dying in the streets” — trevor noah\n\n“well good job with that this country’s never been more chill a lot of people aren’t even moving” — seth meyers\n\n“america’s as cool as a cucumber right now sure we’re stealing toilet paper every time we go into a starbucks and trader joe’s looks like the last scene of ‘apocalypse now’ but other than that it’s all good baby” — seth meyers\n\n“well thank god thank god none of us panicked you know i might have freaked out and stayed inside for six months” — james corden\n\n“yeah it’s a catastrophic story for trump that threatens to end his presidency or as he calls it ‘wednesday’” — jimmy fallon\n\n\n"
     ]
    }
   ],
   "source": [
    "recommendation_indices=getRecommendations(read_id)\n",
    "scores_list=[cosine_sim[read_id][i] for i in recommendation_indices]\n",
    "result_df=news_df.loc[recommendation_indices].copy()\n",
    "result_df['score']=scores_list\n",
    "result_df=result_df.reset_index()\n",
    "print('user read title: \\n')\n",
    "print(read_article)\n",
    "print('\\n')\n",
    "print(\"Recommendation by content similarity\\n\")\n",
    "getTopRecommendationsByContent(result_df)\n",
    "print(\"Recommendation by content similarity date sorted\\n\")\n",
    "getTopRecommendationsLatestFirst(result_df)"
   ]
  }
 ]
}
